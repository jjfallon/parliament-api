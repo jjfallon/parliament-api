{
 "cells": [
  {
   "cell_type": "markdown",
   "metadata": {},
   "source": [
    "# Using Parliament's APIs\n",
    "\n",
    "On [data.parliament.uk](http://www.data.parliament.uk) Parliament has released a large number of APIs to aid access to their data. A full list of APIs can be found at [explore.data.parliament.uk](http://explore.data.parliament.uk). Note: most of these APIs are currently beta releases and may change.\n",
    "\n",
    "On Parliamentary questions the are a number of APIs:\n",
    "- Written questions to the House of Commons [(documentation here)](http://explore.data.parliament.uk/?learnmore=Commons%20Written%20Questions)and to the House of Lords [(documentation here)](http://explore.data.parliament.uk/?learnmore=Lords%20Written%20Questions).\n",
    "- Answered written questions to both Houses [(documentation here)](http://explore.data.parliament.uk/?learnmore=Parliamentary%20Questions%20Answered) and to individual Houses [(e.g. the House of Commons here)](http://explore.data.parliament.uk/?learnmore=Commons%20Answered%20Questions).\n",
    "- Oral questions to the Commons [(documentation here)](http://explore.data.parliament.uk/?learnmore=Commons%20Oral%20Questions) and to the Lords [(documentation here)](http://explore.data.parliament.uk/?learnmore=Lords%20Oral%20Questions).\n",
    "\n",
    "In this notebook I will briefly demonstate how to use the Commons Written Questions API and the Parliamentary Questions Answered API using python. The other Parliamentary questions APIs follow a similiar pattern to these two so it should be straightforward to transfer these examples. "
   ]
  },
  {
   "cell_type": "code",
   "execution_count": 1,
   "metadata": {},
   "outputs": [],
   "source": [
    "import requests\n",
    "import json\n",
    "\n",
    "from math import ceil\n",
    "from __future__ import division"
   ]
  },
  {
   "cell_type": "markdown",
   "metadata": {},
   "source": [
    "## Written questions to the House of Commons\n",
    "\n",
    "Following the document [(documentation here)](http://explore.data.parliament.uk/?learnmore=Commons%20Written%20Questions) there are a number of different ways to query the data. First let's select all written questions sent to a given department.\n",
    "\n",
    "### Selecting a given department\n",
    "We can query the questions sent to a given deparment by using the following code where the results are saved to a dictionary for ease of use."
   ]
  },
  {
   "cell_type": "code",
   "execution_count": 2,
   "metadata": {},
   "outputs": [],
   "source": [
    "commons_url = \"http://lda.data.parliament.uk/commonswrittenquestions.json\"\n",
    "\n",
    "params = {}\n",
    "params[\"AnsweringBody\"]=\"HM Treasury\"\n",
    "\n",
    "\n",
    "response = requests.get(commons_url, params=params).json()"
   ]
  },
  {
   "cell_type": "markdown",
   "metadata": {},
   "source": [
    "The number of hits matching our search criteria can be printed, as can the questions themselves."
   ]
  },
  {
   "cell_type": "code",
   "execution_count": 3,
   "metadata": {},
   "outputs": [
    {
     "name": "stdout",
     "output_type": "stream",
     "text": [
      "Number of hits: 11161\n"
     ]
    }
   ],
   "source": [
    "print \"Number of hits:\", response[\"result\"][\"totalResults\"]"
   ]
  },
  {
   "cell_type": "markdown",
   "metadata": {},
   "source": [
    "### Selecting a given department and filter by date\n",
    "\n",
    "As well as selecting a given department we may want to limit date range considered. Below we select HM Treasury and only bring back questions asked in 2017."
   ]
  },
  {
   "cell_type": "code",
   "execution_count": 4,
   "metadata": {
    "scrolled": true
   },
   "outputs": [],
   "source": [
    "commons_url = \"http://lda.data.parliament.uk/commonswrittenquestions/tabled.json\"\n",
    "\n",
    "params = {}\n",
    "params[\"AnsweringBody\"] = \"HM Treasury\"\n",
    "params[\"startDate\"] = \"2017-01-01\"\n",
    "params[\"endDate\"] = \"2018-01-01\"\n",
    "\n",
    "response = requests.get(commons_url, params=params).json()"
   ]
  },
  {
   "cell_type": "code",
   "execution_count": 5,
   "metadata": {},
   "outputs": [
    {
     "name": "stdout",
     "output_type": "stream",
     "text": [
      "Number of hits: 2561\n"
     ]
    }
   ],
   "source": [
    "total_results = response[\"result\"][\"totalResults\"]\n",
    "print \"Number of hits:\", total_results"
   ]
  },
  {
   "cell_type": "markdown",
   "metadata": {},
   "source": [
    "As expecting their are fewer results. Let's have a look at the first 100 characters of the questions asked."
   ]
  },
  {
   "cell_type": "code",
   "execution_count": 6,
   "metadata": {},
   "outputs": [
    {
     "name": "stdout",
     "output_type": "stream",
     "text": [
      "0 To ask Mr Chancellor of the Exchequer, if it remains his policy to implement the Second Payment Serv\n",
      "1 To ask Mr Chancellor of the Exchequer, what assessment he has made of the potential merits of extend\n",
      "2 To ask Mr Chancellor of the Exchequer, what the title was of each set of regulations introduced by h\n",
      "3 To ask Mr Chancellor of the Exchequer, what processes his Department has put in place to (a) monitor\n",
      "4 To ask Mr Chancellor of the Exchequer, what information his Department holds on the number of employ\n",
      "5 To ask Mr Chancellor of the Exchequer, what assessment he has made of the effect of the proposed clo\n",
      "6 To ask Mr Chancellor of the Exchequer, what assessment he has made of the effect of the proposed Roy\n",
      "7 To ask Mr Chancellor of the Exchequer, Energy and Industrial Strategy, when his Department was first\n",
      "8 To ask Mr Chancellor of the Exchequer, which EU (a) Directives, (b) Regulations and (c) other legisl\n",
      "9 To ask Mr Chancellor of the Exchequer, what his Department's estimate is of the annual loss of reven\n"
     ]
    }
   ],
   "source": [
    "for indx, line in enumerate(response[\"result\"][\"items\"]):\n",
    "    print indx, line[\"questionText\"][0:100]"
   ]
  },
  {
   "cell_type": "markdown",
   "metadata": {},
   "source": [
    "So whilst there are thousands of hits, only ten results have been returned. This is because the API returns the results in a series of pages, each page only containering a given number of records.\n",
    "\n",
    "### Extracting all the results\n",
    "\n",
    "In practice we will want to extract all the hits. To do so, first only return one hit so that we can determine the size of the data."
   ]
  },
  {
   "cell_type": "code",
   "execution_count": 7,
   "metadata": {},
   "outputs": [],
   "source": [
    "params = {}\n",
    "params[\"AnsweringBody\"] = \"HM Treasury\"\n",
    "params[\"startDate\"] = \"2017-01-01\"\n",
    "params[\"endDate\"] = \"2018-01-01\"\n",
    "params[\"_pageSize\"] = 1\n",
    "\n",
    "response = requests.get(commons_url, params=params).json()\n",
    "total_results = response[\"result\"][\"totalResults\"]"
   ]
  },
  {
   "cell_type": "markdown",
   "metadata": {},
   "source": [
    "Next consider how many records it is sensible to download at any one time, this will be the page size. The API limits this to a maximum of 500."
   ]
  },
  {
   "cell_type": "code",
   "execution_count": 8,
   "metadata": {},
   "outputs": [
    {
     "name": "stdout",
     "output_type": "stream",
     "text": [
      "Number of pages to download: 13\n"
     ]
    }
   ],
   "source": [
    "page_size = 200\n",
    "params[\"_pageSize\"] = page_size\n",
    "num_pages = int(ceil(total_results / page_size))\n",
    "\n",
    "print \"Number of pages to download:\", num_pages"
   ]
  },
  {
   "cell_type": "markdown",
   "metadata": {},
   "source": [
    "Then loop over the number of pages present, saving the questions."
   ]
  },
  {
   "cell_type": "code",
   "execution_count": 9,
   "metadata": {},
   "outputs": [],
   "source": [
    "questions = []\n",
    "\n",
    "for page in xrange(0, num_pages):            \n",
    "        params[\"_page\"] = page\n",
    "        results = requests.get(commons_url, params=params).json()\n",
    "        for line in results[\"result\"][\"items\"]:\n",
    "            questions.append(line[\"questionText\"])"
   ]
  },
  {
   "cell_type": "markdown",
   "metadata": {},
   "source": [
    "How many questions have we downloaded?"
   ]
  },
  {
   "cell_type": "code",
   "execution_count": 10,
   "metadata": {},
   "outputs": [
    {
     "data": {
      "text/plain": [
       "2561"
      ]
     },
     "execution_count": 10,
     "metadata": {},
     "output_type": "execute_result"
    }
   ],
   "source": [
    "len(questions)"
   ]
  },
  {
   "cell_type": "markdown",
   "metadata": {},
   "source": [
    "## Answered Parliamentary questions\n",
    "\n",
    "This API is a little different and contains more fields for each record. The code below shows how to write a query similiar to the previous one but using this different API."
   ]
  },
  {
   "cell_type": "code",
   "execution_count": 11,
   "metadata": {
    "scrolled": true
   },
   "outputs": [
    {
     "data": {
      "text/plain": [
       "2907"
      ]
     },
     "execution_count": 11,
     "metadata": {},
     "output_type": "execute_result"
    }
   ],
   "source": [
    "commons_url = \"http://lda.data.parliament.uk/answeredquestions.json\"\n",
    "\n",
    "params = {}\n",
    "params[\"AnsweringBody\"] = \"HM Treasury\"\n",
    "params[\"minEx-date\"] = \"2017-01-01\"\n",
    "params[\"maxEx-date\"] = \"2018-01-01\"\n",
    "\n",
    "response = requests.get(commons_url, params=params).json()\n",
    "response[\"result\"][\"totalResults\"]"
   ]
  },
  {
   "cell_type": "markdown",
   "metadata": {},
   "source": [
    "This is considerding answered questions from both houses so it is not surprising that that the numbers differ."
   ]
  },
  {
   "cell_type": "code",
   "execution_count": null,
   "metadata": {},
   "outputs": [],
   "source": []
  }
 ],
 "metadata": {
  "kernelspec": {
   "display_name": "Python 2",
   "language": "python",
   "name": "python2"
  },
  "language_info": {
   "codemirror_mode": {
    "name": "ipython",
    "version": 2
   },
   "file_extension": ".py",
   "mimetype": "text/x-python",
   "name": "python",
   "nbconvert_exporter": "python",
   "pygments_lexer": "ipython2",
   "version": "2.7.14"
  }
 },
 "nbformat": 4,
 "nbformat_minor": 2
}
